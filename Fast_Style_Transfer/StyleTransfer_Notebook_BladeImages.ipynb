{
 "cells": [
  {
   "cell_type": "code",
   "execution_count": null,
   "metadata": {
    "id": "82cz5k7qmd5-"
   },
   "outputs": [],
   "source": [
    "#Reference: https://www.tensorflow.org/tutorials/generative/style_transfer\n",
    "import os\n",
    "import tensorflow as tf\n",
    "# Load compressed models from tensorflow_hub\n",
    "os.environ['TFHUB_MODEL_LOAD_FORMAT'] = 'COMPRESSED'"
   ]
  },
  {
   "cell_type": "code",
   "execution_count": null,
   "metadata": {
    "id": "HeMVxJmsmmDe"
   },
   "outputs": [],
   "source": [
    "import IPython.display as display\n",
    "\n",
    "import matplotlib.pyplot as plt\n",
    "import matplotlib as mpl\n",
    "mpl.rcParams['figure.figsize'] = (12, 12)\n",
    "mpl.rcParams['axes.grid'] = False\n",
    "\n",
    "import numpy as np\n",
    "np.random.seed(42)\n",
    "\n",
    "import PIL.Image\n",
    "import time\n",
    "import functools\n",
    "import cv2 as cv"
   ]
  },
  {
   "cell_type": "code",
   "execution_count": null,
   "metadata": {
    "id": "LrvMrEtFmoQj"
   },
   "outputs": [],
   "source": [
    "def tensor_to_image(tensor):\n",
    "  tensor = tensor*255\n",
    "  tensor = np.array(tensor, dtype=np.uint8)\n",
    "  if np.ndim(tensor)>3:\n",
    "    assert tensor.shape[0] == 1\n",
    "    tensor = tensor[0]\n",
    "  return PIL.Image.fromarray(tensor)\n",
    "\n",
    "def save_tensor_as_image(tensor, file_path):\n",
    "  tensor = tensor*255\n",
    "  tensor = np.array(tensor, dtype=np.uint8)\n",
    "  if np.ndim(tensor)>3:\n",
    "    assert tensor.shape[0] == 1\n",
    "    tensor = tensor[0]\n",
    "  cv.imwrite(file_path, tensor)"
   ]
  },
  {
   "cell_type": "code",
   "execution_count": null,
   "metadata": {
    "id": "vM54uJzxmo-e"
   },
   "outputs": [],
   "source": [
    "def load_img(path_to_img):\n",
    "  max_dim = 512\n",
    "  img = tf.io.read_file(path_to_img)\n",
    "  img = tf.image.decode_image(img, channels=3)\n",
    "  img = tf.image.convert_image_dtype(img, tf.float32)\n",
    "\n",
    "  shape = tf.cast(tf.shape(img)[:-1], tf.float32)\n",
    "  long_dim = max(shape)\n",
    "  scale = max_dim / long_dim\n",
    "\n",
    "  new_shape = tf.cast(shape * scale, tf.int32)\n",
    "\n",
    "  img = tf.image.resize(img, new_shape)\n",
    "  img = img[tf.newaxis, :]\n",
    "  return img"
   ]
  },
  {
   "cell_type": "code",
   "execution_count": null,
   "metadata": {
    "id": "LqzuG_cKmq5g"
   },
   "outputs": [],
   "source": [
    "def imshow(image, title=None):\n",
    "  if len(image.shape) > 3:\n",
    "    image = tf.squeeze(image, axis=0)\n",
    "\n",
    "  plt.imshow(image)\n",
    "  if title:\n",
    "    plt.title(title)"
   ]
  },
  {
   "cell_type": "code",
   "execution_count": null,
   "metadata": {
    "colab": {
     "base_uri": "https://localhost:8080/",
     "height": 302
    },
    "id": "fSv32l0Tmstm",
    "outputId": "30ea62a8-32ac-49b9-84ec-1a669ce980e0"
   },
   "outputs": [],
   "source": [
    "import random\n",
    "import tensorflow_hub as hub\n",
    "\n",
    "# The model to use for style transfer\n",
    "hub_model = hub.load('https://tfhub.dev/google/magenta/arbitrary-image-stylization-v1-256/2')\n",
    "# How many times is the content image modified with the style image?\n",
    "ITER = 3\n",
    "\n",
    "CONTENT_PATH = f\"path/to/the/content_dataset\"\n",
    "STYLE_PATH = f\"path/to/the/style_dataset\"\n",
    "SAVE_PATH = f\"path/to/output\"\n",
    "\n",
    "content_files = sorted(os.listdir(CONTENT_PATH))\n",
    "\n",
    "# for every content image ...\n",
    "for f in content_files:\n",
    "    content_path = CONTENT_PATH + f\n",
    "    \n",
    "    #... randomly choose a style image ...\n",
    "    style_file = random.choice(os.listdir(STYLE_PATH)\n",
    "    style_path = f\"../{DATASET_STYLE}_syn/\" + style_file\n",
    "\n",
    "    content_image = load_img(content_path)\n",
    "    style_image = load_img(style_path)\n",
    "\n",
    "    # to multiple iterations of of styling\n",
    "    if ITER==1:\n",
    "        stylized_image = hub_model(tf.constant(content_image), tf.constant(style_image))[0]\n",
    "    elif ITER==2:\n",
    "        stylized_image = hub_model(tf.constant(content_image), tf.constant(style_image))[0]\n",
    "        stylized_image = hub_model(tf.constant(stylized_image), tf.constant(style_image))[0]\n",
    "    elif ITER==3:\n",
    "        stylized_image = hub_model(tf.constant(content_image), tf.constant(style_image))[0]\n",
    "        stylized_image = hub_model(tf.constant(stylized_image), tf.constant(style_image))[0]\n",
    "        stylized_image = hub_model(tf.constant(stylized_image), tf.constant(style_image))[0]\n",
    "    \"\"\"\n",
    "    plt.subplot(1, 3, 1)\n",
    "    imshow(content_image, 'Content Image')\n",
    "\n",
    "    plt.subplot(1, 3, 2)\n",
    "    imshow(style_image, 'Style Reference Image')\n",
    "    \n",
    "    plt.subplot(1, 3, 3)\n",
    "    imshow(stylized_image, 'Styled Image')\n",
    "    \n",
    "    plt.show()\n",
    "    \"\"\"\n",
    "    save_path = SAVE_PATH + f\n",
    "    save_tensor_as_image(stylized_image, save_path)"
   ]
  },
  {
   "cell_type": "code",
   "execution_count": null,
   "metadata": {},
   "outputs": [],
   "source": []
  }
 ],
 "metadata": {
  "accelerator": "GPU",
  "colab": {
   "collapsed_sections": [],
   "machine_shape": "hm",
   "name": "StyleTransfer-Notebook-BladeImages.ipynb",
   "provenance": []
  },
  "gpuClass": "standard",
  "kernelspec": {
   "display_name": "Python 3 (ipykernel)",
   "language": "python",
   "name": "python3"
  },
  "language_info": {
   "codemirror_mode": {
    "name": "ipython",
    "version": 3
   },
   "file_extension": ".py",
   "mimetype": "text/x-python",
   "name": "python",
   "nbconvert_exporter": "python",
   "pygments_lexer": "ipython3",
   "version": "3.9.12"
  }
 },
 "nbformat": 4,
 "nbformat_minor": 4
}
