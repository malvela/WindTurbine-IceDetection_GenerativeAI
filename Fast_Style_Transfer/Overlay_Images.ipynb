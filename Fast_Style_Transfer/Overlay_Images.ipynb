{
 "cells": [
  {
   "cell_type": "code",
   "execution_count": null,
   "id": "a0259d81-fc98-4604-b58d-5b37fbcf89a0",
   "metadata": {},
   "outputs": [],
   "source": [
    "\"\"\"\n",
    "\n",
    "Created on Jan 30 2023\n",
    "\n",
    "@author: GER, ALV\n",
    "\n",
    "License\n",
    "\n",
    "------------------------------\n",
    "\n",
    "Copyright 2023 University of Bremen\n",
    "\n",
    "Permission is hereby granted, free of charge, to any person\n",
    "\n",
    "obtaining a copy of this software and associated documentation\n",
    "\n",
    "files (the \"Software\"), to deal in the Software without restriction,\n",
    "\n",
    "including without limitation the rights to use, copy, modify, merge,\n",
    "\n",
    "publish, distribute, sublicense, and/or sell copies of the Software,\n",
    "\n",
    "and to permit persons to whom the Software is furnished to do so,\n",
    "\n",
    "subject to the following conditions:\n",
    "\n",
    "The above copyright notice and this permission notice shall be included\n",
    "\n",
    "in all copies or substantial portions of the Software.\n",
    "\n",
    "THE SOFTWARE IS PROVIDED \"AS IS\", WITHOUT WARRANTY OF ANY KIND,\n",
    "\n",
    "EXPRESS OR IMPLIED, INCLUDING BUT NOT LIMITED TO THE WARRANTIES\n",
    "\n",
    "OF MERCHANTABILITY, FITNESS FOR A PARTICULAR PURPOSE AND NONINFRINGEMENT.\n",
    "\n",
    "IN NO EVENT SHALL THE AUTHORS OR COPYRIGHT HOLDERS BE LIABLE FOR ANY CLAIM,\n",
    "\n",
    "DAMAGES OR OTHER LIABILITY, WHETHER IN AN ACTION OF CONTRACT, TORT OR OTHERWISE,\n",
    "\n",
    "ARISING FROM, OUT OF OR IN CONNECTION WITH THE SOFTWARE OR THE USE OR OTHER\n",
    "\n",
    "DEALINGS IN THE SOFTWARE.\n",
    "\n",
    "\"\"\""
   ]
  },
  {
   "cell_type": "code",
   "execution_count": null,
   "id": "1a2e0f04-8da9-40ec-915f-4a2842eeca3e",
   "metadata": {},
   "outputs": [],
   "source": [
    "import os\n",
    "import numpy as np\n",
    "import cv2 as cv\n",
    "import matplotlib.pyplot as plt"
   ]
  },
  {
   "cell_type": "code",
   "execution_count": null,
   "id": "990fb6f0-6109-478b-be6c-a5463c674256",
   "metadata": {},
   "outputs": [],
   "source": [
    "def show_image(img, grayscale=False, title=''):\n",
    "    fig, ax = plt.subplots(figsize=(16,14))\n",
    "    if grayscale==True:\n",
    "        ax.imshow(img, cmap='gray')\n",
    "    else:\n",
    "        ax.imshow(img)\n",
    "    plt.title(title)\n",
    "    plt.show()"
   ]
  },
  {
   "cell_type": "code",
   "execution_count": null,
   "id": "7c6e1aa2-2511-4c13-8299-7bfbef0c55d7",
   "metadata": {},
   "outputs": [],
   "source": [
    "ORIG_IMG_FOLDER = f\"folder/to/original/images\"\n",
    "MASK_FOLDER = f\"folder/to/mask_labels\"\n",
    "SYNTHETIC_FOLDER = f\"folder/to/styled/images\"\n",
    "SAVE_PATH = f\"folder/to/save/images/to\""
   ]
  },
  {
   "cell_type": "code",
   "execution_count": null,
   "id": "67490188-ff76-4d4d-baa1-fcf3886e8807",
   "metadata": {},
   "outputs": [],
   "source": [
    "# All files (original, mask and synthetic) of a particular styled image should have the same names\n",
    "filenames = sorted(os.listdir(SYNTHETIC_FOLDER))\n",
    "print(filenames)"
   ]
  },
  {
   "cell_type": "code",
   "execution_count": null,
   "id": "b0ff4668-e1cc-4cfe-b3cd-fe44518c5fdc",
   "metadata": {},
   "outputs": [],
   "source": [
    "for i, file in enumerate(filenames):\n",
    "    \n",
    "    # Load the styled, original and mask for the specific image (file)\n",
    "    img_syn  = cv.imread(os.path.join(SYNTHETIC_FOLDER, img_orig_name))\n",
    "    img_orig = cv.imread(os.path.join(ORIG_IMG_FOLDER, img_orig_name))\n",
    "    img_mask = cv.imread(os.path.join(MASK_FOLDER, img_mask_name)) / 255.\n",
    "    \n",
    "    \n",
    "    # resize the other images to the style image shape\n",
    "    new_img_shape = (img_syn.shape[1], img_syn.shape[0])\n",
    "    print(f\"Image_shape: {new_img_shape}\")\n",
    "\n",
    "    img_orig = cv.resize(img_orig, dsize=new_img_shape, interpolation=cv.INTER_NEAREST)\n",
    "    img_mask = cv.resize(img_mask, dsize=new_img_shape, interpolation=cv.INTER_NEAREST)\n",
    "\n",
    "    # Overlay the parts of the image, that where synthetically generated\n",
    "    img_mask_reverse = 1-img_mask\n",
    "    \n",
    "    # save the reverse mask (backgroung=1, foreground=0)\n",
    "    cv.imwrite(MASK_FOLDER+img_orig_name.split(\".\")[0]+\"_mask_reverse.png/\", img_mask_reverse)\n",
    "    \n",
    "    \n",
    "    img_orig_modified = (img_syn*img_mask)+(img_mask_reverse*img_orig)\n",
    "    img_orig_modified = img_orig_modified.astype(int)\n",
    "    show_image(img_orig_modified)\n",
    "    save_name = img_orig_name.split(\".\")[0]+f\"_syn_overlayed_{i}.jpg\"\n",
    "    \n",
    "    os.makedirs(SAVE_PATH, exist_ok=True)\n",
    "    cv.imwrite(os.path.join(SAVE_PATH,save_name), img_orig_modified)"
   ]
  },
  {
   "cell_type": "code",
   "execution_count": null,
   "id": "de201e8e-cd6b-4db8-a144-119304232be2",
   "metadata": {},
   "outputs": [],
   "source": []
  }
 ],
 "metadata": {
  "kernelspec": {
   "display_name": "Python 3 (ipykernel)",
   "language": "python",
   "name": "python3"
  },
  "language_info": {
   "codemirror_mode": {
    "name": "ipython",
    "version": 3
   },
   "file_extension": ".py",
   "mimetype": "text/x-python",
   "name": "python",
   "nbconvert_exporter": "python",
   "pygments_lexer": "ipython3",
   "version": "3.9.12"
  }
 },
 "nbformat": 4,
 "nbformat_minor": 5
}
